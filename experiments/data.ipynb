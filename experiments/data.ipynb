{
 "cells": [
  {
   "cell_type": "code",
   "execution_count": 77,
   "id": "656aafac",
   "metadata": {},
   "outputs": [],
   "source": [
    "import pandas as pd\n",
    "import numpy as np"
   ]
  },
  {
   "cell_type": "code",
   "execution_count": 78,
   "id": "f473b6a3",
   "metadata": {},
   "outputs": [],
   "source": [
    "# ImVisible\n",
    "\n",
    "test = pd.read_csv('../data/Annotations/testing_file.csv', header=0, delimiter=',')\n",
    "train = pd.read_csv('../data/Annotations/training_file.csv', header=0, delimiter=',')\n",
    "validation = pd.read_csv('../data/Annotations/validation_file.csv', header=0, delimiter=',')\n",
    "\n",
    "imvisible = pd.concat([test, train, validation])"
   ]
  },
  {
   "cell_type": "code",
   "execution_count": 79,
   "id": "f7fa36be",
   "metadata": {},
   "outputs": [],
   "source": [
    "imvisible = imvisible.rename(columns={'block': 'blocked'})\n",
    "imvisible[\"blocked\"] = (imvisible[\"blocked\"] == \"blocked\").astype(int)\n",
    "\n",
    "imvisible[\"theta_rad\"] = np.atan((imvisible[\"x2\"]-imvisible[\"x1\"])/(imvisible[\"y2\"]-imvisible[\"y1\"]))\n",
    "imvisible[\"theta_deg\"] = imvisible[\"theta_rad\"] * 180/np.pi\n",
    "\n",
    "orig_width = 4032\n",
    "orig_height = 3024\n",
    "\n",
    "new_width = 876\n",
    "new_height = 657\n",
    "\n",
    "y1_bt = imvisible[\"y1\"] > imvisible[\"y2\"]\n",
    "\n",
    "imvisible[\"x1\"] = (imvisible[\"x1\"] / orig_width * new_width).round().astype(int)\n",
    "imvisible[\"x2\"] = (imvisible[\"x2\"] / orig_width * new_width).round().astype(int)\n",
    "imvisible[\"y1\"] = (imvisible[\"y1\"] / orig_height * new_height).round().astype(int)\n",
    "imvisible[\"y2\"] = (imvisible[\"y2\"] / orig_height * new_height).round().astype(int)\n",
    "\n",
    "imvisible[\"x\"] = np.where(y1_bt, imvisible[\"x1\"], imvisible[\"x2\"])\n",
    "imvisible[\"y\"] = np.where(y1_bt, imvisible[\"y1\"], imvisible[\"y2\"])\n",
    "\n",
    "imvisible[\"file\"] = \"/pedestrian-traffic-lights/\"+imvisible[\"file\"]\n",
    "imvisible[\"zebra\"] = 1\n",
    "\n",
    "imvisible = imvisible[['file', 'zebra', 'mode', 'blocked', 'x', 'y', 'theta_rad', 'theta_deg']]"
   ]
  },
  {
   "cell_type": "code",
   "execution_count": 80,
   "id": "a86d9298",
   "metadata": {},
   "outputs": [],
   "source": [
    "# Global Streetscapes\n",
    "\n",
    "global_street = pd.read_csv('../data/global-streetscapes.csv', header=0, delimiter=',')\n",
    "\n",
    "global_street = global_street.rename(columns={'uuid': 'file'})\n",
    "global_street[\"file\"] = \"/global-streetscapes/\"+global_street[\"file\"]+\".jpeg\"\n",
    "\n",
    "global_street[\"zebra\"] = 0\n",
    "columns = ['mode', 'blocked', 'x', 'y', 'theta_rad', 'theta_deg']\n",
    "for col in columns:\n",
    "    global_street[col] = pd.NA\n",
    "\n",
    "global_street = global_street[['file', 'zebra', 'mode', 'blocked', 'x', 'y', 'theta_rad', 'theta_deg']]"
   ]
  },
  {
   "cell_type": "code",
   "execution_count": 81,
   "id": "26fbf1a9",
   "metadata": {},
   "outputs": [
    {
     "name": "stderr",
     "output_type": "stream",
     "text": [
      "C:\\Users\\Albert\\AppData\\Local\\Temp\\ipykernel_22844\\2424766889.py:1: FutureWarning: The behavior of DataFrame concatenation with empty or all-NA entries is deprecated. In a future version, this will no longer exclude empty or all-NA columns when determining the result dtypes. To retain the old behavior, exclude the relevant entries before the concat operation.\n",
      "  df = pd.concat([imvisible, global_street])\n"
     ]
    }
   ],
   "source": [
    "df = pd.concat([imvisible, global_street])\n",
    "df.to_csv(\"../data/dataset.csv\", index=False)"
   ]
  }
 ],
 "metadata": {
  "kernelspec": {
   "display_name": "Python 3",
   "language": "python",
   "name": "python3"
  },
  "language_info": {
   "codemirror_mode": {
    "name": "ipython",
    "version": 3
   },
   "file_extension": ".py",
   "mimetype": "text/x-python",
   "name": "python",
   "nbconvert_exporter": "python",
   "pygments_lexer": "ipython3",
   "version": "3.10.11"
  }
 },
 "nbformat": 4,
 "nbformat_minor": 5
}
